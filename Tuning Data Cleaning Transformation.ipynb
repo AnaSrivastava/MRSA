{
 "cells": [
  {
   "cell_type": "code",
   "execution_count": 1,
   "metadata": {},
   "outputs": [],
   "source": [
    "#problem statement divided into sub statements\n",
    "#summary of importance of problem statement:why,on what(data),how(Python)\n",
    "#PCA(Principle Component Ananlysis) is a type of feature enginnering \n",
    "\n",
    "import pandas as pd\n",
    "import pickle\n",
    "\n",
    "df=pd.read_csv(\"rottenTomatoesUserReviews.csv\",encoding=\"cp437\")"
   ]
  },
  {
   "cell_type": "code",
   "execution_count": 2,
   "metadata": {},
   "outputs": [
    {
     "data": {
      "text/html": [
       "<div>\n",
       "<style scoped>\n",
       "    .dataframe tbody tr th:only-of-type {\n",
       "        vertical-align: middle;\n",
       "    }\n",
       "\n",
       "    .dataframe tbody tr th {\n",
       "        vertical-align: top;\n",
       "    }\n",
       "\n",
       "    .dataframe thead th {\n",
       "        text-align: right;\n",
       "    }\n",
       "</style>\n",
       "<table border=\"1\" class=\"dataframe\">\n",
       "  <thead>\n",
       "    <tr style=\"text-align: right;\">\n",
       "      <th></th>\n",
       "      <th>Rating</th>\n",
       "      <th>Text</th>\n",
       "      <th>Movie</th>\n",
       "      <th>ID</th>\n",
       "      <th>Sentiment</th>\n",
       "    </tr>\n",
       "  </thead>\n",
       "  <tbody>\n",
       "    <tr>\n",
       "      <th>0</th>\n",
       "      <td>2.5</td>\n",
       "      <td>My problem wasn't so much with what happened...</td>\n",
       "      <td>The Last Jedi</td>\n",
       "      <td>1</td>\n",
       "      <td>0</td>\n",
       "    </tr>\n",
       "    <tr>\n",
       "      <th>1</th>\n",
       "      <td>2.0</td>\n",
       "      <td>Jumping around in stupid plot lines that whe...</td>\n",
       "      <td>The Last Jedi</td>\n",
       "      <td>2</td>\n",
       "      <td>0</td>\n",
       "    </tr>\n",
       "    <tr>\n",
       "      <th>2</th>\n",
       "      <td>0.5</td>\n",
       "      <td>This is one horrible piece of fan fiction. D...</td>\n",
       "      <td>The Last Jedi</td>\n",
       "      <td>3</td>\n",
       "      <td>0</td>\n",
       "    </tr>\n",
       "    <tr>\n",
       "      <th>3</th>\n",
       "      <td>2.0</td>\n",
       "      <td>I think Disney is totally wrecking the Star ...</td>\n",
       "      <td>The Last Jedi</td>\n",
       "      <td>4</td>\n",
       "      <td>0</td>\n",
       "    </tr>\n",
       "    <tr>\n",
       "      <th>4</th>\n",
       "      <td>0.5</td>\n",
       "      <td>The Last Jedi is the cinematic equivalent of...</td>\n",
       "      <td>The Last Jedi</td>\n",
       "      <td>5</td>\n",
       "      <td>0</td>\n",
       "    </tr>\n",
       "  </tbody>\n",
       "</table>\n",
       "</div>"
      ],
      "text/plain": [
       "   Rating                                               Text          Movie  \\\n",
       "0     2.5    My problem wasn't so much with what happened...  The Last Jedi   \n",
       "1     2.0    Jumping around in stupid plot lines that whe...  The Last Jedi   \n",
       "2     0.5    This is one horrible piece of fan fiction. D...  The Last Jedi   \n",
       "3     2.0    I think Disney is totally wrecking the Star ...  The Last Jedi   \n",
       "4     0.5    The Last Jedi is the cinematic equivalent of...  The Last Jedi   \n",
       "\n",
       "  ID  Sentiment  \n",
       "0  1          0  \n",
       "1  2          0  \n",
       "2  3          0  \n",
       "3  4          0  \n",
       "4  5          0  "
      ]
     },
     "execution_count": 2,
     "metadata": {},
     "output_type": "execute_result"
    }
   ],
   "source": [
    "df['ID']=df['ID'].astype({'ID':'object'})\n",
    "df['Text']=df['Text'].str.replace('stpid','stupid')                         #data cleaning and transformation\n",
    "df['Sentiment'] = 0\n",
    "df.head()"
   ]
  },
  {
   "cell_type": "code",
   "execution_count": 3,
   "metadata": {},
   "outputs": [],
   "source": [
    "movieNames=[]                  #lists for new csv file that we will create soon\n",
    "avgRating=[]\n",
    "posPercent=[]\n",
    "negPercent=[]\n",
    "neuPercent=[]"
   ]
  },
  {
   "cell_type": "code",
   "execution_count": 6,
   "metadata": {},
   "outputs": [],
   "source": [
    "# Using The Trained SVM\n",
    "def sentimentAnalysis(text):\n",
    "    file=open(\"SVM_Movie_Review\",\"rb\")\n",
    "    file_1=open(\"TFIDF_Movie_Review\",\"rb\")\n",
    "    vect=pickle.load(file_1)\n",
    "    clf=pickle.load(file)\n",
    "    i=0\n",
    "    for review in text['Text']:\n",
    "        review_vector = vect.transform([review])\n",
    "        df.set_value(i, \"Sentiment\", clf.predict(review_vector)[0])\n",
    "        i+=1\n",
    "    file.close()\n",
    "    file_1.close()"
   ]
  },
  {
   "cell_type": "code",
   "execution_count": 4,
   "metadata": {},
   "outputs": [],
   "source": [
    "def movieWiseRating(movielist):\n",
    "    for movie in movielist['Movie'].unique():\n",
    "        movieNames.append(str(movie))     #Average rating movie wise\n",
    "        avgRating.append(float(df[df.Movie==movie].Rating.mean()))"
   ]
  },
  {
   "cell_type": "code",
   "execution_count": 5,
   "metadata": {},
   "outputs": [],
   "source": [
    "def finalAnalysis(df):\n",
    "    for movie in df['Movie'].unique():\n",
    "        pos=df[(df.Movie==movie) & (df.Sentiment==1)].Sentiment.count()\n",
    "        neu=df[(df.Movie==movie) & (df.Sentiment==0)].Sentiment.count()\n",
    "        neg=df[(df.Movie==movie) & (df.Sentiment==-1)].Sentiment.count()\n",
    "        sumOfAll=(pos+neg+neu)\n",
    "        pos/=sumOfAll\n",
    "        neg/=sumOfAll\n",
    "        neu/=sumOfAll\n",
    "        pos*=100\n",
    "        neu*=100\n",
    "        neg*=100\n",
    "        posPercent.append(float(pos))\n",
    "        negPercent.append(float(neu))\n",
    "        neuPercent.append(float(neg))"
   ]
  },
  {
   "cell_type": "code",
   "execution_count": 7,
   "metadata": {},
   "outputs": [
    {
     "name": "stderr",
     "output_type": "stream",
     "text": [
      "C:\\Users\\Ananya\\Anaconda3\\lib\\site-packages\\ipykernel_launcher.py:10: FutureWarning: set_value is deprecated and will be removed in a future release. Please use .at[] or .iat[] accessors instead\n",
      "  # Remove the CWD from sys.path while we load stuff.\n"
     ]
    }
   ],
   "source": [
    "sentimentAnalysis(df)\n",
    "finalAnalysis(df)\n",
    "movieWiseRating(df)"
   ]
  },
  {
   "cell_type": "code",
   "execution_count": 10,
   "metadata": {},
   "outputs": [
    {
     "name": "stdout",
     "output_type": "stream",
     "text": [
      "16\n"
     ]
    }
   ],
   "source": [
    "C = {   'Movie': movieNames,\n",
    "        'Average_Rating': avgRating,\n",
    "        'Positive_Review': posPercent,\n",
    "        'Negative_Review': negPercent,\n",
    "    }\n",
    "print(len(movieNames))\n",
    "df1 = pd.DataFrame.from_dict(C)"
   ]
  },
  {
   "cell_type": "code",
   "execution_count": 11,
   "metadata": {},
   "outputs": [],
   "source": [
    "df1.to_csv(\"data.csv\",index=False)"
   ]
  },
  {
   "cell_type": "code",
   "execution_count": 12,
   "metadata": {},
   "outputs": [],
   "source": [
    "df1 = pd.read_csv(\"data.csv\")"
   ]
  },
  {
   "cell_type": "code",
   "execution_count": 13,
   "metadata": {},
   "outputs": [
    {
     "data": {
      "text/html": [
       "<div>\n",
       "<style scoped>\n",
       "    .dataframe tbody tr th:only-of-type {\n",
       "        vertical-align: middle;\n",
       "    }\n",
       "\n",
       "    .dataframe tbody tr th {\n",
       "        vertical-align: top;\n",
       "    }\n",
       "\n",
       "    .dataframe thead th {\n",
       "        text-align: right;\n",
       "    }\n",
       "</style>\n",
       "<table border=\"1\" class=\"dataframe\">\n",
       "  <thead>\n",
       "    <tr style=\"text-align: right;\">\n",
       "      <th></th>\n",
       "      <th>Movie</th>\n",
       "      <th>Average_Rating</th>\n",
       "      <th>Positive_Review</th>\n",
       "      <th>Negative_Review</th>\n",
       "    </tr>\n",
       "  </thead>\n",
       "  <tbody>\n",
       "    <tr>\n",
       "      <th>11</th>\n",
       "      <td>Peter Rabbit</td>\n",
       "      <td>3.379496</td>\n",
       "      <td>67.266187</td>\n",
       "      <td>32.733813</td>\n",
       "    </tr>\n",
       "    <tr>\n",
       "      <th>12</th>\n",
       "      <td>Sherlock Gnomes</td>\n",
       "      <td>3.406667</td>\n",
       "      <td>56.000000</td>\n",
       "      <td>44.000000</td>\n",
       "    </tr>\n",
       "    <tr>\n",
       "      <th>13</th>\n",
       "      <td>The Death of Stalin</td>\n",
       "      <td>3.429319</td>\n",
       "      <td>63.874346</td>\n",
       "      <td>36.125654</td>\n",
       "    </tr>\n",
       "    <tr>\n",
       "      <th>14</th>\n",
       "      <td>The Shape of Water</td>\n",
       "      <td>3.080448</td>\n",
       "      <td>62.423625</td>\n",
       "      <td>37.576375</td>\n",
       "    </tr>\n",
       "    <tr>\n",
       "      <th>15</th>\n",
       "      <td>Tomb Raider</td>\n",
       "      <td>3.658359</td>\n",
       "      <td>71.651090</td>\n",
       "      <td>28.348910</td>\n",
       "    </tr>\n",
       "  </tbody>\n",
       "</table>\n",
       "</div>"
      ],
      "text/plain": [
       "                  Movie  Average_Rating  Positive_Review  Negative_Review\n",
       "11         Peter Rabbit        3.379496        67.266187        32.733813\n",
       "12      Sherlock Gnomes        3.406667        56.000000        44.000000\n",
       "13  The Death of Stalin        3.429319        63.874346        36.125654\n",
       "14   The Shape of Water        3.080448        62.423625        37.576375\n",
       "15          Tomb Raider        3.658359        71.651090        28.348910"
      ]
     },
     "execution_count": 13,
     "metadata": {},
     "output_type": "execute_result"
    }
   ],
   "source": [
    "df1.tail()"
   ]
  },
  {
   "cell_type": "code",
   "execution_count": 9,
   "metadata": {},
   "outputs": [
    {
     "data": {
      "text/html": [
       "<div>\n",
       "<style scoped>\n",
       "    .dataframe tbody tr th:only-of-type {\n",
       "        vertical-align: middle;\n",
       "    }\n",
       "\n",
       "    .dataframe tbody tr th {\n",
       "        vertical-align: top;\n",
       "    }\n",
       "\n",
       "    .dataframe thead th {\n",
       "        text-align: right;\n",
       "    }\n",
       "</style>\n",
       "<table border=\"1\" class=\"dataframe\">\n",
       "  <thead>\n",
       "    <tr style=\"text-align: right;\">\n",
       "      <th></th>\n",
       "      <th>Rating</th>\n",
       "      <th>Text</th>\n",
       "      <th>Movie</th>\n",
       "      <th>ID</th>\n",
       "      <th>Sentiment</th>\n",
       "    </tr>\n",
       "  </thead>\n",
       "  <tbody>\n",
       "    <tr>\n",
       "      <th>10343</th>\n",
       "      <td>4.5</td>\n",
       "      <td>I really want to see Lara in action. Cause I...</td>\n",
       "      <td>Tomb Raider</td>\n",
       "      <td>10344</td>\n",
       "      <td>1</td>\n",
       "    </tr>\n",
       "    <tr>\n",
       "      <th>10344</th>\n",
       "      <td>5.0</td>\n",
       "      <td>Watched this splendid piece of cinematograph...</td>\n",
       "      <td>Tomb Raider</td>\n",
       "      <td>10345</td>\n",
       "      <td>1</td>\n",
       "    </tr>\n",
       "    <tr>\n",
       "      <th>10345</th>\n",
       "      <td>5.0</td>\n",
       "      <td>Went into the movie optimistic it would mesh...</td>\n",
       "      <td>Tomb Raider</td>\n",
       "      <td>10346</td>\n",
       "      <td>1</td>\n",
       "    </tr>\n",
       "    <tr>\n",
       "      <th>10346</th>\n",
       "      <td>3.5</td>\n",
       "      <td>Based on the most recent run of Tomb Raider ...</td>\n",
       "      <td>Tomb Raider</td>\n",
       "      <td>10347</td>\n",
       "      <td>1</td>\n",
       "    </tr>\n",
       "    <tr>\n",
       "      <th>10347</th>\n",
       "      <td>5.0</td>\n",
       "      <td>After searching so many years for a good vid...</td>\n",
       "      <td>Tomb Raider</td>\n",
       "      <td>10348</td>\n",
       "      <td>1</td>\n",
       "    </tr>\n",
       "  </tbody>\n",
       "</table>\n",
       "</div>"
      ],
      "text/plain": [
       "       Rating                                               Text        Movie  \\\n",
       "10343     4.5    I really want to see Lara in action. Cause I...  Tomb Raider   \n",
       "10344     5.0    Watched this splendid piece of cinematograph...  Tomb Raider   \n",
       "10345     5.0    Went into the movie optimistic it would mesh...  Tomb Raider   \n",
       "10346     3.5    Based on the most recent run of Tomb Raider ...  Tomb Raider   \n",
       "10347     5.0    After searching so many years for a good vid...  Tomb Raider   \n",
       "\n",
       "          ID  Sentiment  \n",
       "10343  10344          1  \n",
       "10344  10345          1  \n",
       "10345  10346          1  \n",
       "10346  10347          1  \n",
       "10347  10348          1  "
      ]
     },
     "execution_count": 9,
     "metadata": {},
     "output_type": "execute_result"
    }
   ],
   "source": [
    "df.tail()"
   ]
  },
  {
   "cell_type": "code",
   "execution_count": 8,
   "metadata": {},
   "outputs": [
    {
     "data": {
      "text/html": [
       "<div>\n",
       "<style scoped>\n",
       "    .dataframe tbody tr th:only-of-type {\n",
       "        vertical-align: middle;\n",
       "    }\n",
       "\n",
       "    .dataframe tbody tr th {\n",
       "        vertical-align: top;\n",
       "    }\n",
       "\n",
       "    .dataframe thead th {\n",
       "        text-align: right;\n",
       "    }\n",
       "</style>\n",
       "<table border=\"1\" class=\"dataframe\">\n",
       "  <thead>\n",
       "    <tr style=\"text-align: right;\">\n",
       "      <th></th>\n",
       "      <th>Rating</th>\n",
       "      <th>Text</th>\n",
       "      <th>Movie</th>\n",
       "      <th>ID</th>\n",
       "      <th>Sentiment</th>\n",
       "    </tr>\n",
       "  </thead>\n",
       "  <tbody>\n",
       "    <tr>\n",
       "      <th>0</th>\n",
       "      <td>2.5</td>\n",
       "      <td>My problem wasn't so much with what happened...</td>\n",
       "      <td>The Last Jedi</td>\n",
       "      <td>1</td>\n",
       "      <td>0</td>\n",
       "    </tr>\n",
       "    <tr>\n",
       "      <th>1</th>\n",
       "      <td>2.0</td>\n",
       "      <td>Jumping around in stupid plot lines that whe...</td>\n",
       "      <td>The Last Jedi</td>\n",
       "      <td>2</td>\n",
       "      <td>0</td>\n",
       "    </tr>\n",
       "    <tr>\n",
       "      <th>2</th>\n",
       "      <td>0.5</td>\n",
       "      <td>This is one horrible piece of fan fiction. D...</td>\n",
       "      <td>The Last Jedi</td>\n",
       "      <td>3</td>\n",
       "      <td>0</td>\n",
       "    </tr>\n",
       "    <tr>\n",
       "      <th>3</th>\n",
       "      <td>2.0</td>\n",
       "      <td>I think Disney is totally wrecking the Star ...</td>\n",
       "      <td>The Last Jedi</td>\n",
       "      <td>4</td>\n",
       "      <td>0</td>\n",
       "    </tr>\n",
       "    <tr>\n",
       "      <th>4</th>\n",
       "      <td>0.5</td>\n",
       "      <td>The Last Jedi is the cinematic equivalent of...</td>\n",
       "      <td>The Last Jedi</td>\n",
       "      <td>5</td>\n",
       "      <td>1</td>\n",
       "    </tr>\n",
       "  </tbody>\n",
       "</table>\n",
       "</div>"
      ],
      "text/plain": [
       "   Rating                                               Text          Movie  \\\n",
       "0     2.5    My problem wasn't so much with what happened...  The Last Jedi   \n",
       "1     2.0    Jumping around in stupid plot lines that whe...  The Last Jedi   \n",
       "2     0.5    This is one horrible piece of fan fiction. D...  The Last Jedi   \n",
       "3     2.0    I think Disney is totally wrecking the Star ...  The Last Jedi   \n",
       "4     0.5    The Last Jedi is the cinematic equivalent of...  The Last Jedi   \n",
       "\n",
       "  ID  Sentiment  \n",
       "0  1          0  \n",
       "1  2          0  \n",
       "2  3          0  \n",
       "3  4          0  \n",
       "4  5          1  "
      ]
     },
     "execution_count": 8,
     "metadata": {},
     "output_type": "execute_result"
    }
   ],
   "source": [
    "df.head()"
   ]
  },
  {
   "cell_type": "code",
   "execution_count": null,
   "metadata": {},
   "outputs": [],
   "source": []
  }
 ],
 "metadata": {
  "kernelspec": {
   "display_name": "Python 3",
   "language": "python",
   "name": "python3"
  },
  "language_info": {
   "codemirror_mode": {
    "name": "ipython",
    "version": 3
   },
   "file_extension": ".py",
   "mimetype": "text/x-python",
   "name": "python",
   "nbconvert_exporter": "python",
   "pygments_lexer": "ipython3",
   "version": "3.7.3"
  }
 },
 "nbformat": 4,
 "nbformat_minor": 2
}
