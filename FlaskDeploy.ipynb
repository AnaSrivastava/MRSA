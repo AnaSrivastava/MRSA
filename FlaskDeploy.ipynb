{
 "cells": [
  {
   "cell_type": "code",
   "execution_count": 14,
   "metadata": {},
   "outputs": [],
   "source": [
    "import pandas as pd\n",
    "import matplotlib as plot\n",
    "from flask import Flask\n",
    "from flask import jsonify\n",
    "from flask import request\n",
    "import json\n",
    "from flask import make_response\n",
    "\n",
    "df = pd.read_csv(\"data.csv\")"
   ]
  },
  {
   "cell_type": "code",
   "execution_count": 15,
   "metadata": {},
   "outputs": [
    {
     "data": {
      "text/html": [
       "<div>\n",
       "<style scoped>\n",
       "    .dataframe tbody tr th:only-of-type {\n",
       "        vertical-align: middle;\n",
       "    }\n",
       "\n",
       "    .dataframe tbody tr th {\n",
       "        vertical-align: top;\n",
       "    }\n",
       "\n",
       "    .dataframe thead th {\n",
       "        text-align: right;\n",
       "    }\n",
       "</style>\n",
       "<table border=\"1\" class=\"dataframe\">\n",
       "  <thead>\n",
       "    <tr style=\"text-align: right;\">\n",
       "      <th></th>\n",
       "      <th>Movie</th>\n",
       "      <th>Average_Rating</th>\n",
       "      <th>Positive_Review</th>\n",
       "      <th>Negative_Review</th>\n",
       "    </tr>\n",
       "  </thead>\n",
       "  <tbody>\n",
       "    <tr>\n",
       "      <th>0</th>\n",
       "      <td>The Last Jedi</td>\n",
       "      <td>1.555851</td>\n",
       "      <td>28.723404</td>\n",
       "      <td>71.276596</td>\n",
       "    </tr>\n",
       "    <tr>\n",
       "      <th>1</th>\n",
       "      <td>Ready Player One</td>\n",
       "      <td>3.807071</td>\n",
       "      <td>71.919192</td>\n",
       "      <td>28.080808</td>\n",
       "    </tr>\n",
       "    <tr>\n",
       "      <th>2</th>\n",
       "      <td>Black Panther</td>\n",
       "      <td>3.219171</td>\n",
       "      <td>61.865285</td>\n",
       "      <td>38.134715</td>\n",
       "    </tr>\n",
       "    <tr>\n",
       "      <th>3</th>\n",
       "      <td>A Wrinkle in Time</td>\n",
       "      <td>2.153125</td>\n",
       "      <td>42.708333</td>\n",
       "      <td>57.291667</td>\n",
       "    </tr>\n",
       "    <tr>\n",
       "      <th>4</th>\n",
       "      <td>Annihilation</td>\n",
       "      <td>3.201515</td>\n",
       "      <td>56.161616</td>\n",
       "      <td>43.838384</td>\n",
       "    </tr>\n",
       "  </tbody>\n",
       "</table>\n",
       "</div>"
      ],
      "text/plain": [
       "               Movie  Average_Rating  Positive_Review  Negative_Review\n",
       "0      The Last Jedi        1.555851        28.723404        71.276596\n",
       "1   Ready Player One        3.807071        71.919192        28.080808\n",
       "2      Black Panther        3.219171        61.865285        38.134715\n",
       "3  A Wrinkle in Time        2.153125        42.708333        57.291667\n",
       "4       Annihilation        3.201515        56.161616        43.838384"
      ]
     },
     "execution_count": 15,
     "metadata": {},
     "output_type": "execute_result"
    }
   ],
   "source": [
    "df.head()"
   ]
  },
  {
   "cell_type": "code",
   "execution_count": 10,
   "metadata": {},
   "outputs": [
    {
     "name": "stdout",
     "output_type": "stream",
     "text": [
      "3.2191709844559586\n"
     ]
    }
   ],
   "source": [
    "def avgRate(mname):\n",
    "    return(float(df[df.Movie==mname].Average_Rating))\n",
    "print(avgRate(\"Black Panther\"))"
   ]
  },
  {
   "cell_type": "code",
   "execution_count": 17,
   "metadata": {},
   "outputs": [
    {
     "name": "stdout",
     "output_type": "stream",
     "text": [
      "61.86528497409326\n"
     ]
    }
   ],
   "source": [
    "def posRev(mname):\n",
    "    return(float(df[df.Movie==mname].Positive_Review))\n",
    "print(posRev(\"Black Panther\"))"
   ]
  },
  {
   "cell_type": "code",
   "execution_count": 20,
   "metadata": {},
   "outputs": [
    {
     "name": "stdout",
     "output_type": "stream",
     "text": [
      "38.134715025906736\n"
     ]
    }
   ],
   "source": [
    "def negRev(mname):\n",
    "    return(float(df[df.Movie==mname].Negative_Review))\n",
    "print(negRev(\"Black Panther\"))"
   ]
  },
  {
   "cell_type": "code",
   "execution_count": 26,
   "metadata": {},
   "outputs": [
    {
     "name": "stdout",
     "output_type": "stream",
     "text": [
      " * Serving Flask app \"__main__\" (lazy loading)\n",
      " * Environment: production\n",
      "   WARNING: Do not use the development server in a production environment.\n",
      "   Use a production WSGI server instead.\n",
      " * Debug mode: on\n"
     ]
    },
    {
     "name": "stderr",
     "output_type": "stream",
     "text": [
      " * Restarting with stat\n"
     ]
    },
    {
     "ename": "SystemExit",
     "evalue": "1",
     "output_type": "error",
     "traceback": [
      "An exception has occurred, use %tb to see the full traceback.\n",
      "\u001b[1;31mSystemExit\u001b[0m\u001b[1;31m:\u001b[0m 1\n"
     ]
    }
   ],
   "source": [
    "app = Flask(__name__)\n",
    "@app.route('/movie', methods=['POST'])\n",
    "def getReviewDetails():\n",
    "    try:\n",
    "        movie_name = request.json['mname']\n",
    "        print(movie_name)\n",
    "    except:\n",
    "        return make_response(jsonify({'error' :'bad request'}),400)\n",
    "    try:\n",
    "        rating = avgRate(movie_name)\n",
    "        pos=posRev(movie_name)\n",
    "        \n",
    "    except:\n",
    "        return make_response(jsonify({'error' :'internal server error'}),500)\n",
    "    \n",
    "    return make_response(jsonify({\"full_name\": name}),200)\n",
    "\n",
    "if __name__ == \"__main__\":\n",
    "    app.run(host= '0.0.0.0',port=5004,debug=True)"
   ]
  },
  {
   "cell_type": "code",
   "execution_count": null,
   "metadata": {},
   "outputs": [],
   "source": []
  }
 ],
 "metadata": {
  "kernelspec": {
   "display_name": "Python 3",
   "language": "python",
   "name": "python3"
  },
  "language_info": {
   "codemirror_mode": {
    "name": "ipython",
    "version": 3
   },
   "file_extension": ".py",
   "mimetype": "text/x-python",
   "name": "python",
   "nbconvert_exporter": "python",
   "pygments_lexer": "ipython3",
   "version": "3.7.3"
  }
 },
 "nbformat": 4,
 "nbformat_minor": 2
}
